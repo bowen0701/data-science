{
 "cells": [
  {
   "cell_type": "markdown",
   "metadata": {},
   "source": [
    "# Chi-Squared Testing"
   ]
  },
  {
   "cell_type": "markdown",
   "metadata": {},
   "source": [
    "- Bowen Li\n",
    "- 2016/04/30"
   ]
  },
  {
   "cell_type": "markdown",
   "metadata": {},
   "source": [
    "## 1. Aggregate data in a 2x2 Table\n",
    "\n",
    "In many classification applications, for example, exposure-disease association, we can summarize data in the following $2 \\times 2$ table:\n",
    "\n",
    "|                      |  Event: $D$   | No Event: $\\bar D$ |       |\n",
    "|----------------------|---------------|--------------------|-------|\n",
    "| Exposure: $E$        |      $a$      |         $b$        | $n_B$ |\n",
    "| No Exposure: $\\bar E$|      $c$      |         $d$        | $n_A$ |\n",
    "|                      |     $a+c$     |        $b+d$       |  $n$  |\n",
    "\n",
    "**The hypothesis to verify: the exposure $E$ and the event $D$ are independent?** Actually, we would like to *disprove* this hypothesis, then we can claim the exposure is associated with the event."
   ]
  },
  {
   "cell_type": "markdown",
   "metadata": {},
   "source": [
    "## 2. Pearson (1900)'s chi-squared test\n",
    "\n",
    "Let $p_B = Pr(D | E)$ be the conditional probability of event, $D$, given the exposure group, $E$, and $p_A = Pr(D | \\bar E)$ the conditional probability of event, $D$, given the non-exposure group, A.\n",
    "\n",
    "The interested hypothesis can be represented as\n",
    "\n",
    "$$\n",
    "H_0: p_B = p_A, vs. H_1: p_B \\neq p_A\n",
    "$$\n",
    "\n",
    "**Chi-squared test statistics under $H_0$:**\n",
    "\n",
    "$$\n",
    "X_p = \\frac{(\\widehat {p}_B - \\widehat {p}_A)^2}{\\widehat{p} (1 - \\widehat{p}) \\left ( \\frac{1}{n_B} + \\frac{1}{n_A} \\right )} = \\frac{n (ad - bc)^2}{(a + b) (a + c) (b + d) (c + d)}\n",
    "= \\sum_{i=1}^2 \\sum_{j=1}^2 \\frac{(O_{ij} - E_{ij})^2}{E_{ij}} \\rightarrow^d \\chi^2_{(1)}\n",
    "\\quad \\text{(1)}\n",
    "$$\n",
    "\n",
    "where\n",
    "\n",
    "- $\\widehat{p}_B = a / n_B$ and $\\widehat{p}_A = c / n_A$\n",
    "- $p = Pr(\\text{D})$, with estimate $\\widehat{p} = (a + c) / n$\n",
    "- $O_{ij}$, $i,j = 1,2$: observed entries in 2x2 table\n",
    "- $E_{ij} = E(O_{ij})$, $i,j = 1,2$: expected entries in 2x2 table\n",
    "\n",
    "By applying (1) we can obtain the corresponding testing procedure or confidence interval."
   ]
  },
  {
   "cell_type": "markdown",
   "metadata": {},
   "source": [
    "## Appendix. Derivations of (1)\n",
    "\n",
    "Let $p_B = \\Pr(D | E)$, and $p_A = \\Pr(D | \\bar E)$,\n",
    "\n",
    "$$\n",
    "\\widehat p_B = \\frac{a}{a+b} = \\frac{a}{n_B}, \\widehat p_A = \\frac{c}{c+d} = \\frac{c}{n_A}\n",
    "$$\n",
    "\n",
    "Under $H_0: p_B = p_A = p$,\n",
    "\n",
    "$$\n",
    "E(\\widehat p_B - \\widehat p_A) = 0,\n",
    "Var(\\widehat p_B - \\widehat p_A) = \\frac{1}{n_B} p_B (1 - p_B) + \\frac{1}{n_A} p_A (1 - p_A) = p (1 - p) \\left [ \\frac{1}{n_B} + \\frac{1}{n_A} \\right ] := \\widehat V\n",
    "$$\n",
    "\n",
    "From the **Central Limit Theorem,**\n",
    "\n",
    "$$\n",
    "\\frac{\\widehat p_B - \\widehat p_A}{\\sqrt{\\widehat V}} = \\frac{\\widehat p_B - \\widehat p_A)}{\\sqrt{\\widehat p (1 - \\widehat p) \\left [ \\frac{1}{n_B} + \\frac{1}{n_A} \\right ]}} \\rightarrow^d N(0, 1)\n",
    "$$\n",
    "\n",
    "Thus,\n",
    "\n",
    "$$\n",
    "\\frac{(\\widehat p_B - \\widehat p_A)^2}{\\widehat p (1 - \\widehat p) \\left [ \\frac{1}{n_B} + \\frac{1}{n_A} \\right ]} \\rightarrow^d \\chi^2_{(1)}\n",
    "$$\n",
    "\n",
    "Numerator:\n",
    "\n",
    "$$\n",
    "(\\widehat p_B - \\widehat p_A)^2 = \\left ( \\frac{a}{n_B} - \\frac{c}{n_A} \\right )^2 = \\frac{(ad - bc)^2}{(n_B n_A)^2}\n",
    "$$\n",
    "\n",
    "Denominator:\n",
    "\n",
    "$$\n",
    "\\widehat p (1 - \\widehat p) \\left [ \\frac{1}{n_B} + \\frac{1}{n_A} \\right ] = \\frac{a+c}{n} \\frac{b+d}{n} \\frac{n_B + n_A}{n_B n_A} = \\frac{(a+c) (b+d)}{n n_B n_A}\n",
    "$$\n",
    "\n",
    "Hence the first identity in equation (1) follows. Alternatively, first focus on cell $O_{11} = a$. Under $H_0:$ exposure and event are independent,\n",
    "\n",
    "$$\n",
    "E_{11} = E(O_{11}) = E(a) = n \\Pr(E \\cdot D) = n \\Pr(E) \\Pr(D) = n \\frac{a+c}{n} \\frac{a+b}{n}\n",
    "$$\n",
    "\n",
    "Similar results can be derived for cells $b$, $c$ and $d$. Hence the second identity in equation (1) follows."
   ]
  },
  {
   "cell_type": "markdown",
   "metadata": {},
   "source": [
    "## References\n",
    "\n",
    "- Jewell (2004). Statistics for Epidemiology."
   ]
  }
 ],
 "metadata": {
  "kernelspec": {
   "display_name": "Python 2",
   "language": "python",
   "name": "python2"
  },
  "language_info": {
   "codemirror_mode": {
    "name": "ipython",
    "version": 2
   },
   "file_extension": ".py",
   "mimetype": "text/x-python",
   "name": "python",
   "nbconvert_exporter": "python",
   "pygments_lexer": "ipython2",
   "version": "2.7.12"
  }
 },
 "nbformat": 4,
 "nbformat_minor": 1
}
